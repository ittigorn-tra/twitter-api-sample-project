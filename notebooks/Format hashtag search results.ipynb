{
 "cells": [
  {
   "cell_type": "code",
   "execution_count": 1,
   "id": "8a699de9",
   "metadata": {},
   "outputs": [
    {
     "name": "stdout",
     "output_type": "stream",
     "text": [
      "Appended C:\\personal_projects\\twitter-api-sample-project\n"
     ]
    }
   ],
   "source": [
    "import os, sys\n",
    "project_root = os.path.dirname(os.path.dirname(os.path.realpath('__file__')))\n",
    "if project_root not in sys.path: sys.path.append(project_root); print(f'Appended {project_root}')"
   ]
  },
  {
   "cell_type": "code",
   "execution_count": 4,
   "id": "e687c854",
   "metadata": {},
   "outputs": [],
   "source": [
    "import pickle\n",
    "import pandas as pd"
   ]
  },
  {
   "cell_type": "code",
   "execution_count": 5,
   "id": "4fb4e547",
   "metadata": {},
   "outputs": [],
   "source": [
    "# load pickle\n",
    "fp = os.path.join(project_root, 'temp', 'hashtag_search_results.pkl')\n",
    "with open(fp, 'rb') as f:\n",
    "  raw_results = pickle.load(f)"
   ]
  },
  {
   "cell_type": "code",
   "execution_count": 17,
   "id": "cba05b60",
   "metadata": {},
   "outputs": [],
   "source": [
    "user_fields   = ['id', 'name', 'username']"
   ]
  },
  {
   "cell_type": "code",
   "execution_count": 8,
   "id": "cb0606d0",
   "metadata": {},
   "outputs": [
    {
     "data": {
      "text/plain": [
       "dict_keys(['data', 'includes', 'meta'])"
      ]
     },
     "execution_count": 8,
     "metadata": {},
     "output_type": "execute_result"
    }
   ],
   "source": [
    "raw_results.keys()"
   ]
  },
  {
   "cell_type": "code",
   "execution_count": 31,
   "id": "c2d30b7e",
   "metadata": {},
   "outputs": [
    {
     "data": {
      "text/html": [
       "<div>\n",
       "<style scoped>\n",
       "    .dataframe tbody tr th:only-of-type {\n",
       "        vertical-align: middle;\n",
       "    }\n",
       "\n",
       "    .dataframe tbody tr th {\n",
       "        vertical-align: top;\n",
       "    }\n",
       "\n",
       "    .dataframe thead th {\n",
       "        text-align: right;\n",
       "    }\n",
       "</style>\n",
       "<table border=\"1\" class=\"dataframe\">\n",
       "  <thead>\n",
       "    <tr style=\"text-align: right;\">\n",
       "      <th></th>\n",
       "      <th>author_id</th>\n",
       "      <th>name</th>\n",
       "      <th>username</th>\n",
       "    </tr>\n",
       "  </thead>\n",
       "  <tbody>\n",
       "    <tr>\n",
       "      <th>0</th>\n",
       "      <td>1280935835789975553</td>\n",
       "      <td>AMachineLearning</td>\n",
       "      <td>AdvanceML</td>\n",
       "    </tr>\n",
       "    <tr>\n",
       "      <th>1</th>\n",
       "      <td>1155470031225884675</td>\n",
       "      <td>Mack - Emerging Techs</td>\n",
       "      <td>Analytics_699</td>\n",
       "    </tr>\n",
       "    <tr>\n",
       "      <th>2</th>\n",
       "      <td>336590824</td>\n",
       "      <td>Online Learning ⭐️⭐️⭐️⭐️⭐️</td>\n",
       "      <td>dnaRtests</td>\n",
       "    </tr>\n",
       "    <tr>\n",
       "      <th>3</th>\n",
       "      <td>1399107248425668618</td>\n",
       "      <td>p3rzv41</td>\n",
       "      <td>p3rzv41</td>\n",
       "    </tr>\n",
       "    <tr>\n",
       "      <th>4</th>\n",
       "      <td>1386109685741260803</td>\n",
       "      <td>azuer-bot</td>\n",
       "      <td>AzuerBot</td>\n",
       "    </tr>\n",
       "  </tbody>\n",
       "</table>\n",
       "</div>"
      ],
      "text/plain": [
       "             author_id                        name       username\n",
       "0  1280935835789975553            AMachineLearning      AdvanceML\n",
       "1  1155470031225884675       Mack - Emerging Techs  Analytics_699\n",
       "2            336590824  Online Learning ⭐️⭐️⭐️⭐️⭐️      dnaRtests\n",
       "3  1399107248425668618                     p3rzv41        p3rzv41\n",
       "4  1386109685741260803                   azuer-bot       AzuerBot"
      ]
     },
     "execution_count": 31,
     "metadata": {},
     "output_type": "execute_result"
    }
   ],
   "source": [
    "# assemble users df\n",
    "users = pd.DataFrame(raw_results.get('includes', {}).get('users', []))\n",
    "if len(users) == 0:\n",
    "  users = pd.DataFrame(columns=user_fields)\n",
    "users = users.rename({'id':'author_id'}, axis=1)\n",
    "\n",
    "users.head()"
   ]
  },
  {
   "cell_type": "code",
   "execution_count": 32,
   "id": "2123226e",
   "metadata": {},
   "outputs": [
    {
     "data": {
      "text/html": [
       "<div>\n",
       "<style scoped>\n",
       "    .dataframe tbody tr th:only-of-type {\n",
       "        vertical-align: middle;\n",
       "    }\n",
       "\n",
       "    .dataframe tbody tr th {\n",
       "        vertical-align: top;\n",
       "    }\n",
       "\n",
       "    .dataframe thead th {\n",
       "        text-align: right;\n",
       "    }\n",
       "</style>\n",
       "<table border=\"1\" class=\"dataframe\">\n",
       "  <thead>\n",
       "    <tr style=\"text-align: right;\">\n",
       "      <th></th>\n",
       "      <th>author_id</th>\n",
       "      <th>id</th>\n",
       "      <th>created_at</th>\n",
       "      <th>text</th>\n",
       "      <th>retweet_count</th>\n",
       "      <th>reply_count</th>\n",
       "      <th>like_count</th>\n",
       "      <th>quote_count</th>\n",
       "      <th>name</th>\n",
       "      <th>username</th>\n",
       "    </tr>\n",
       "  </thead>\n",
       "  <tbody>\n",
       "    <tr>\n",
       "      <th>0</th>\n",
       "      <td>1280935835789975553</td>\n",
       "      <td>1440558210033741829</td>\n",
       "      <td>2021-09-22T06:06:56.000Z</td>\n",
       "      <td>RT @Topgraders2: Hit our dm now for,  #100Days...</td>\n",
       "      <td>18</td>\n",
       "      <td>0</td>\n",
       "      <td>0</td>\n",
       "      <td>0</td>\n",
       "      <td>AMachineLearning</td>\n",
       "      <td>AdvanceML</td>\n",
       "    </tr>\n",
       "    <tr>\n",
       "      <th>1</th>\n",
       "      <td>1155470031225884675</td>\n",
       "      <td>1440558203058622467</td>\n",
       "      <td>2021-09-22T06:06:54.000Z</td>\n",
       "      <td>RT @Analytics_699: 500% Higher illumination &amp;g...</td>\n",
       "      <td>94</td>\n",
       "      <td>0</td>\n",
       "      <td>0</td>\n",
       "      <td>0</td>\n",
       "      <td>Mack - Emerging Techs</td>\n",
       "      <td>Analytics_699</td>\n",
       "    </tr>\n",
       "    <tr>\n",
       "      <th>2</th>\n",
       "      <td>336590824</td>\n",
       "      <td>1440558201863213061</td>\n",
       "      <td>2021-09-22T06:06:54.000Z</td>\n",
       "      <td>RT @dnaRtests: Nice tv for the price!!!\\n#thei...</td>\n",
       "      <td>12</td>\n",
       "      <td>0</td>\n",
       "      <td>0</td>\n",
       "      <td>0</td>\n",
       "      <td>Online Learning ⭐️⭐️⭐️⭐️⭐️</td>\n",
       "      <td>dnaRtests</td>\n",
       "    </tr>\n",
       "    <tr>\n",
       "      <th>3</th>\n",
       "      <td>1399107248425668618</td>\n",
       "      <td>1440558198516117511</td>\n",
       "      <td>2021-09-22T06:06:53.000Z</td>\n",
       "      <td>RT @Hakin9: ProtOSINT is a Python script that ...</td>\n",
       "      <td>22</td>\n",
       "      <td>0</td>\n",
       "      <td>0</td>\n",
       "      <td>0</td>\n",
       "      <td>p3rzv41</td>\n",
       "      <td>p3rzv41</td>\n",
       "    </tr>\n",
       "    <tr>\n",
       "      <th>4</th>\n",
       "      <td>1386109685741260803</td>\n",
       "      <td>1440558191004184582</td>\n",
       "      <td>2021-09-22T06:06:51.000Z</td>\n",
       "      <td>RT @expert_bettina: We’re available 24/7 for y...</td>\n",
       "      <td>16</td>\n",
       "      <td>0</td>\n",
       "      <td>0</td>\n",
       "      <td>0</td>\n",
       "      <td>azuer-bot</td>\n",
       "      <td>AzuerBot</td>\n",
       "    </tr>\n",
       "  </tbody>\n",
       "</table>\n",
       "</div>"
      ],
      "text/plain": [
       "             author_id                   id                created_at  \\\n",
       "0  1280935835789975553  1440558210033741829  2021-09-22T06:06:56.000Z   \n",
       "1  1155470031225884675  1440558203058622467  2021-09-22T06:06:54.000Z   \n",
       "2            336590824  1440558201863213061  2021-09-22T06:06:54.000Z   \n",
       "3  1399107248425668618  1440558198516117511  2021-09-22T06:06:53.000Z   \n",
       "4  1386109685741260803  1440558191004184582  2021-09-22T06:06:51.000Z   \n",
       "\n",
       "                                                text  retweet_count  \\\n",
       "0  RT @Topgraders2: Hit our dm now for,  #100Days...             18   \n",
       "1  RT @Analytics_699: 500% Higher illumination &g...             94   \n",
       "2  RT @dnaRtests: Nice tv for the price!!!\\n#thei...             12   \n",
       "3  RT @Hakin9: ProtOSINT is a Python script that ...             22   \n",
       "4  RT @expert_bettina: We’re available 24/7 for y...             16   \n",
       "\n",
       "   reply_count  like_count  quote_count                        name  \\\n",
       "0            0           0            0            AMachineLearning   \n",
       "1            0           0            0       Mack - Emerging Techs   \n",
       "2            0           0            0  Online Learning ⭐️⭐️⭐️⭐️⭐️   \n",
       "3            0           0            0                     p3rzv41   \n",
       "4            0           0            0                   azuer-bot   \n",
       "\n",
       "        username  \n",
       "0      AdvanceML  \n",
       "1  Analytics_699  \n",
       "2      dnaRtests  \n",
       "3        p3rzv41  \n",
       "4       AzuerBot  "
      ]
     },
     "execution_count": 32,
     "metadata": {},
     "output_type": "execute_result"
    }
   ],
   "source": [
    "# assemble tweets df\n",
    "tweets         = pd.DataFrame(raw_results.get('data', []))\n",
    "public_metrics = tweets.public_metrics.apply(pd.Series)\n",
    "tweets         = tweets[[c for c in tweets.columns if c != 'public_metrics']]\n",
    "\n",
    "result_df = tweets.join(public_metrics)\n",
    "result_df = result_df.merge(users, how='left', on='author_id')\n",
    "\n",
    "# if len(tweets) == 0:\n",
    "#   tweets = pd.DataFrame(columns=user_fields)\n",
    "                      \n",
    "result_df.head()"
   ]
  }
 ],
 "metadata": {
  "kernelspec": {
   "display_name": "Python 3 (ipykernel)",
   "language": "python",
   "name": "python3"
  },
  "language_info": {
   "codemirror_mode": {
    "name": "ipython",
    "version": 3
   },
   "file_extension": ".py",
   "mimetype": "text/x-python",
   "name": "python",
   "nbconvert_exporter": "python",
   "pygments_lexer": "ipython3",
   "version": "3.7.11"
  }
 },
 "nbformat": 4,
 "nbformat_minor": 5
}
