{
 "cells": [
  {
   "cell_type": "code",
   "execution_count": 1,
   "id": "8a699de9",
   "metadata": {},
   "outputs": [
    {
     "name": "stdout",
     "output_type": "stream",
     "text": [
      "Appended C:\\personal_projects\\anymind\n"
     ]
    }
   ],
   "source": [
    "import os, sys\n",
    "project_root = os.path.dirname(os.path.dirname(os.path.realpath('__file__')))\n",
    "if project_root not in sys.path: sys.path.append(project_root); print(f'Appended {project_root}')"
   ]
  },
  {
   "cell_type": "markdown",
   "id": "2808f298",
   "metadata": {},
   "source": [
    "Note: There should be a more effective way to generate an account number but this would suffice for the sake of running a sample code"
   ]
  },
  {
   "cell_type": "code",
   "execution_count": 1,
   "id": "e687c854",
   "metadata": {},
   "outputs": [],
   "source": [
    "import datetime"
   ]
  },
  {
   "cell_type": "code",
   "execution_count": 149,
   "id": "279ec2ea",
   "metadata": {},
   "outputs": [
    {
     "data": {
      "text/plain": [
       "'202109191517310619'"
      ]
     },
     "execution_count": 149,
     "metadata": {},
     "output_type": "execute_result"
    }
   ],
   "source": [
    "now = datetime.datetime.now()\n",
    "now.strftime('%Y%m%d%H%S%f')"
   ]
  },
  {
   "cell_type": "code",
   "execution_count": 148,
   "id": "fac7b494",
   "metadata": {},
   "outputs": [
    {
     "data": {
      "text/plain": [
       "'148900'"
      ]
     },
     "execution_count": 148,
     "metadata": {},
     "output_type": "execute_result"
    }
   ],
   "source": [
    "now = datetime.datetime.now()\n",
    "now.strftime('%f')"
   ]
  },
  {
   "cell_type": "code",
   "execution_count": null,
   "id": "4fb4e547",
   "metadata": {},
   "outputs": [],
   "source": []
  }
 ],
 "metadata": {
  "kernelspec": {
   "display_name": "Python 3 (ipykernel)",
   "language": "python",
   "name": "python3"
  },
  "language_info": {
   "codemirror_mode": {
    "name": "ipython",
    "version": 3
   },
   "file_extension": ".py",
   "mimetype": "text/x-python",
   "name": "python",
   "nbconvert_exporter": "python",
   "pygments_lexer": "ipython3",
   "version": "3.7.11"
  }
 },
 "nbformat": 4,
 "nbformat_minor": 5
}
